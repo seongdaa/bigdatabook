{
  "cells": [
    {
      "cell_type": "markdown",
      "id": "cd1784e6",
      "metadata": {
        "id": "cd1784e6"
      },
      "source": [
        "# 데이터프레임의 결합"
      ]
    },
    {
      "cell_type": "markdown",
      "id": "617e2314",
      "metadata": {
        "id": "617e2314"
      },
      "source": [
        "데이터를 이용하여 분석을 하는 경우 사용할 자료가 두 개 이상이 경우는 매우 흔한 일이다. 실제로 데이터 분석에서 하나의 자료만 가지고 수행하는 일은 매우 드물다.\n",
        "\n",
        "여러 개의 자료를 사용하는 경우 두 개의 자료를 서로 결합하여 새로운 자료를 만들어야 하는 경우가 많다.\n",
        "\n",
        "이 절에서는 먼저 데이터프레임을 결합하는 다양한 예제를 살펴보고, 가구 자료와 인구 자료를 결합하여 가구당 평균 인원수를 계산해 볼 것이다."
      ]
    },
    {
      "cell_type": "code",
      "execution_count": 1,
      "id": "6525598e",
      "metadata": {
        "id": "6525598e"
      },
      "outputs": [],
      "source": [
        "import pandas as pd\n",
        "import numpy as np\n",
        "import matplotlib.pyplot as plt"
      ]
    },
    {
      "cell_type": "markdown",
      "id": "7ec44902",
      "metadata": {
        "id": "7ec44902"
      },
      "source": [
        "## 간단한 결합\n",
        "\n",
        "두 개의 데이터프레임 `df1` 과 `df2` 가 다음과 같이 주어졌다고 하자."
      ]
    },
    {
      "cell_type": "code",
      "execution_count": 2,
      "id": "37ed1fdf",
      "metadata": {
        "id": "37ed1fdf",
        "outputId": "779cd614-466c-4ba7-bf8b-cfffe1cf89e4",
        "colab": {
          "base_uri": "https://localhost:8080/",
          "height": 143
        }
      },
      "outputs": [
        {
          "output_type": "execute_result",
          "data": {
            "text/plain": [
              "   name  age\n",
              "0    철수   23\n",
              "1  John   34\n",
              "2    영이   19"
            ],
            "text/html": [
              "\n",
              "  <div id=\"df-00c9ccf2-87df-42be-b6be-53217166ab0c\" class=\"colab-df-container\">\n",
              "    <div>\n",
              "<style scoped>\n",
              "    .dataframe tbody tr th:only-of-type {\n",
              "        vertical-align: middle;\n",
              "    }\n",
              "\n",
              "    .dataframe tbody tr th {\n",
              "        vertical-align: top;\n",
              "    }\n",
              "\n",
              "    .dataframe thead th {\n",
              "        text-align: right;\n",
              "    }\n",
              "</style>\n",
              "<table border=\"1\" class=\"dataframe\">\n",
              "  <thead>\n",
              "    <tr style=\"text-align: right;\">\n",
              "      <th></th>\n",
              "      <th>name</th>\n",
              "      <th>age</th>\n",
              "    </tr>\n",
              "  </thead>\n",
              "  <tbody>\n",
              "    <tr>\n",
              "      <th>0</th>\n",
              "      <td>철수</td>\n",
              "      <td>23</td>\n",
              "    </tr>\n",
              "    <tr>\n",
              "      <th>1</th>\n",
              "      <td>John</td>\n",
              "      <td>34</td>\n",
              "    </tr>\n",
              "    <tr>\n",
              "      <th>2</th>\n",
              "      <td>영이</td>\n",
              "      <td>19</td>\n",
              "    </tr>\n",
              "  </tbody>\n",
              "</table>\n",
              "</div>\n",
              "    <div class=\"colab-df-buttons\">\n",
              "\n",
              "  <div class=\"colab-df-container\">\n",
              "    <button class=\"colab-df-convert\" onclick=\"convertToInteractive('df-00c9ccf2-87df-42be-b6be-53217166ab0c')\"\n",
              "            title=\"Convert this dataframe to an interactive table.\"\n",
              "            style=\"display:none;\">\n",
              "\n",
              "  <svg xmlns=\"http://www.w3.org/2000/svg\" height=\"24px\" viewBox=\"0 -960 960 960\">\n",
              "    <path d=\"M120-120v-720h720v720H120Zm60-500h600v-160H180v160Zm220 220h160v-160H400v160Zm0 220h160v-160H400v160ZM180-400h160v-160H180v160Zm440 0h160v-160H620v160ZM180-180h160v-160H180v160Zm440 0h160v-160H620v160Z\"/>\n",
              "  </svg>\n",
              "    </button>\n",
              "\n",
              "  <style>\n",
              "    .colab-df-container {\n",
              "      display:flex;\n",
              "      gap: 12px;\n",
              "    }\n",
              "\n",
              "    .colab-df-convert {\n",
              "      background-color: #E8F0FE;\n",
              "      border: none;\n",
              "      border-radius: 50%;\n",
              "      cursor: pointer;\n",
              "      display: none;\n",
              "      fill: #1967D2;\n",
              "      height: 32px;\n",
              "      padding: 0 0 0 0;\n",
              "      width: 32px;\n",
              "    }\n",
              "\n",
              "    .colab-df-convert:hover {\n",
              "      background-color: #E2EBFA;\n",
              "      box-shadow: 0px 1px 2px rgba(60, 64, 67, 0.3), 0px 1px 3px 1px rgba(60, 64, 67, 0.15);\n",
              "      fill: #174EA6;\n",
              "    }\n",
              "\n",
              "    .colab-df-buttons div {\n",
              "      margin-bottom: 4px;\n",
              "    }\n",
              "\n",
              "    [theme=dark] .colab-df-convert {\n",
              "      background-color: #3B4455;\n",
              "      fill: #D2E3FC;\n",
              "    }\n",
              "\n",
              "    [theme=dark] .colab-df-convert:hover {\n",
              "      background-color: #434B5C;\n",
              "      box-shadow: 0px 1px 3px 1px rgba(0, 0, 0, 0.15);\n",
              "      filter: drop-shadow(0px 1px 2px rgba(0, 0, 0, 0.3));\n",
              "      fill: #FFFFFF;\n",
              "    }\n",
              "  </style>\n",
              "\n",
              "    <script>\n",
              "      const buttonEl =\n",
              "        document.querySelector('#df-00c9ccf2-87df-42be-b6be-53217166ab0c button.colab-df-convert');\n",
              "      buttonEl.style.display =\n",
              "        google.colab.kernel.accessAllowed ? 'block' : 'none';\n",
              "\n",
              "      async function convertToInteractive(key) {\n",
              "        const element = document.querySelector('#df-00c9ccf2-87df-42be-b6be-53217166ab0c');\n",
              "        const dataTable =\n",
              "          await google.colab.kernel.invokeFunction('convertToInteractive',\n",
              "                                                    [key], {});\n",
              "        if (!dataTable) return;\n",
              "\n",
              "        const docLinkHtml = 'Like what you see? Visit the ' +\n",
              "          '<a target=\"_blank\" href=https://colab.research.google.com/notebooks/data_table.ipynb>data table notebook</a>'\n",
              "          + ' to learn more about interactive tables.';\n",
              "        element.innerHTML = '';\n",
              "        dataTable['output_type'] = 'display_data';\n",
              "        await google.colab.output.renderOutput(dataTable, element);\n",
              "        const docLink = document.createElement('div');\n",
              "        docLink.innerHTML = docLinkHtml;\n",
              "        element.appendChild(docLink);\n",
              "      }\n",
              "    </script>\n",
              "  </div>\n",
              "\n",
              "\n",
              "<div id=\"df-7f0771a7-cc7f-45a5-bc4a-b2de8a258665\">\n",
              "  <button class=\"colab-df-quickchart\" onclick=\"quickchart('df-7f0771a7-cc7f-45a5-bc4a-b2de8a258665')\"\n",
              "            title=\"Suggest charts\"\n",
              "            style=\"display:none;\">\n",
              "\n",
              "<svg xmlns=\"http://www.w3.org/2000/svg\" height=\"24px\"viewBox=\"0 0 24 24\"\n",
              "     width=\"24px\">\n",
              "    <g>\n",
              "        <path d=\"M19 3H5c-1.1 0-2 .9-2 2v14c0 1.1.9 2 2 2h14c1.1 0 2-.9 2-2V5c0-1.1-.9-2-2-2zM9 17H7v-7h2v7zm4 0h-2V7h2v10zm4 0h-2v-4h2v4z\"/>\n",
              "    </g>\n",
              "</svg>\n",
              "  </button>\n",
              "\n",
              "<style>\n",
              "  .colab-df-quickchart {\n",
              "      --bg-color: #E8F0FE;\n",
              "      --fill-color: #1967D2;\n",
              "      --hover-bg-color: #E2EBFA;\n",
              "      --hover-fill-color: #174EA6;\n",
              "      --disabled-fill-color: #AAA;\n",
              "      --disabled-bg-color: #DDD;\n",
              "  }\n",
              "\n",
              "  [theme=dark] .colab-df-quickchart {\n",
              "      --bg-color: #3B4455;\n",
              "      --fill-color: #D2E3FC;\n",
              "      --hover-bg-color: #434B5C;\n",
              "      --hover-fill-color: #FFFFFF;\n",
              "      --disabled-bg-color: #3B4455;\n",
              "      --disabled-fill-color: #666;\n",
              "  }\n",
              "\n",
              "  .colab-df-quickchart {\n",
              "    background-color: var(--bg-color);\n",
              "    border: none;\n",
              "    border-radius: 50%;\n",
              "    cursor: pointer;\n",
              "    display: none;\n",
              "    fill: var(--fill-color);\n",
              "    height: 32px;\n",
              "    padding: 0;\n",
              "    width: 32px;\n",
              "  }\n",
              "\n",
              "  .colab-df-quickchart:hover {\n",
              "    background-color: var(--hover-bg-color);\n",
              "    box-shadow: 0 1px 2px rgba(60, 64, 67, 0.3), 0 1px 3px 1px rgba(60, 64, 67, 0.15);\n",
              "    fill: var(--button-hover-fill-color);\n",
              "  }\n",
              "\n",
              "  .colab-df-quickchart-complete:disabled,\n",
              "  .colab-df-quickchart-complete:disabled:hover {\n",
              "    background-color: var(--disabled-bg-color);\n",
              "    fill: var(--disabled-fill-color);\n",
              "    box-shadow: none;\n",
              "  }\n",
              "\n",
              "  .colab-df-spinner {\n",
              "    border: 2px solid var(--fill-color);\n",
              "    border-color: transparent;\n",
              "    border-bottom-color: var(--fill-color);\n",
              "    animation:\n",
              "      spin 1s steps(1) infinite;\n",
              "  }\n",
              "\n",
              "  @keyframes spin {\n",
              "    0% {\n",
              "      border-color: transparent;\n",
              "      border-bottom-color: var(--fill-color);\n",
              "      border-left-color: var(--fill-color);\n",
              "    }\n",
              "    20% {\n",
              "      border-color: transparent;\n",
              "      border-left-color: var(--fill-color);\n",
              "      border-top-color: var(--fill-color);\n",
              "    }\n",
              "    30% {\n",
              "      border-color: transparent;\n",
              "      border-left-color: var(--fill-color);\n",
              "      border-top-color: var(--fill-color);\n",
              "      border-right-color: var(--fill-color);\n",
              "    }\n",
              "    40% {\n",
              "      border-color: transparent;\n",
              "      border-right-color: var(--fill-color);\n",
              "      border-top-color: var(--fill-color);\n",
              "    }\n",
              "    60% {\n",
              "      border-color: transparent;\n",
              "      border-right-color: var(--fill-color);\n",
              "    }\n",
              "    80% {\n",
              "      border-color: transparent;\n",
              "      border-right-color: var(--fill-color);\n",
              "      border-bottom-color: var(--fill-color);\n",
              "    }\n",
              "    90% {\n",
              "      border-color: transparent;\n",
              "      border-bottom-color: var(--fill-color);\n",
              "    }\n",
              "  }\n",
              "</style>\n",
              "\n",
              "  <script>\n",
              "    async function quickchart(key) {\n",
              "      const quickchartButtonEl =\n",
              "        document.querySelector('#' + key + ' button');\n",
              "      quickchartButtonEl.disabled = true;  // To prevent multiple clicks.\n",
              "      quickchartButtonEl.classList.add('colab-df-spinner');\n",
              "      try {\n",
              "        const charts = await google.colab.kernel.invokeFunction(\n",
              "            'suggestCharts', [key], {});\n",
              "      } catch (error) {\n",
              "        console.error('Error during call to suggestCharts:', error);\n",
              "      }\n",
              "      quickchartButtonEl.classList.remove('colab-df-spinner');\n",
              "      quickchartButtonEl.classList.add('colab-df-quickchart-complete');\n",
              "    }\n",
              "    (() => {\n",
              "      let quickchartButtonEl =\n",
              "        document.querySelector('#df-7f0771a7-cc7f-45a5-bc4a-b2de8a258665 button');\n",
              "      quickchartButtonEl.style.display =\n",
              "        google.colab.kernel.accessAllowed ? 'block' : 'none';\n",
              "    })();\n",
              "  </script>\n",
              "</div>\n",
              "\n",
              "  <div id=\"id_45dce902-3880-4e28-8504-4412facd1f2c\">\n",
              "    <style>\n",
              "      .colab-df-generate {\n",
              "        background-color: #E8F0FE;\n",
              "        border: none;\n",
              "        border-radius: 50%;\n",
              "        cursor: pointer;\n",
              "        display: none;\n",
              "        fill: #1967D2;\n",
              "        height: 32px;\n",
              "        padding: 0 0 0 0;\n",
              "        width: 32px;\n",
              "      }\n",
              "\n",
              "      .colab-df-generate:hover {\n",
              "        background-color: #E2EBFA;\n",
              "        box-shadow: 0px 1px 2px rgba(60, 64, 67, 0.3), 0px 1px 3px 1px rgba(60, 64, 67, 0.15);\n",
              "        fill: #174EA6;\n",
              "      }\n",
              "\n",
              "      [theme=dark] .colab-df-generate {\n",
              "        background-color: #3B4455;\n",
              "        fill: #D2E3FC;\n",
              "      }\n",
              "\n",
              "      [theme=dark] .colab-df-generate:hover {\n",
              "        background-color: #434B5C;\n",
              "        box-shadow: 0px 1px 3px 1px rgba(0, 0, 0, 0.15);\n",
              "        filter: drop-shadow(0px 1px 2px rgba(0, 0, 0, 0.3));\n",
              "        fill: #FFFFFF;\n",
              "      }\n",
              "    </style>\n",
              "    <button class=\"colab-df-generate\" onclick=\"generateWithVariable('df1')\"\n",
              "            title=\"Generate code using this dataframe.\"\n",
              "            style=\"display:none;\">\n",
              "\n",
              "  <svg xmlns=\"http://www.w3.org/2000/svg\" height=\"24px\"viewBox=\"0 0 24 24\"\n",
              "       width=\"24px\">\n",
              "    <path d=\"M7,19H8.4L18.45,9,17,7.55,7,17.6ZM5,21V16.75L18.45,3.32a2,2,0,0,1,2.83,0l1.4,1.43a1.91,1.91,0,0,1,.58,1.4,1.91,1.91,0,0,1-.58,1.4L9.25,21ZM18.45,9,17,7.55Zm-12,3A5.31,5.31,0,0,0,4.9,8.1,5.31,5.31,0,0,0,1,6.5,5.31,5.31,0,0,0,4.9,4.9,5.31,5.31,0,0,0,6.5,1,5.31,5.31,0,0,0,8.1,4.9,5.31,5.31,0,0,0,12,6.5,5.46,5.46,0,0,0,6.5,12Z\"/>\n",
              "  </svg>\n",
              "    </button>\n",
              "    <script>\n",
              "      (() => {\n",
              "      const buttonEl =\n",
              "        document.querySelector('#id_45dce902-3880-4e28-8504-4412facd1f2c button.colab-df-generate');\n",
              "      buttonEl.style.display =\n",
              "        google.colab.kernel.accessAllowed ? 'block' : 'none';\n",
              "\n",
              "      buttonEl.onclick = () => {\n",
              "        google.colab.notebook.generateWithVariable('df1');\n",
              "      }\n",
              "      })();\n",
              "    </script>\n",
              "  </div>\n",
              "\n",
              "    </div>\n",
              "  </div>\n"
            ],
            "application/vnd.google.colaboratory.intrinsic+json": {
              "type": "dataframe",
              "variable_name": "df1",
              "summary": "{\n  \"name\": \"df1\",\n  \"rows\": 3,\n  \"fields\": [\n    {\n      \"column\": \"name\",\n      \"properties\": {\n        \"dtype\": \"string\",\n        \"num_unique_values\": 3,\n        \"samples\": [\n          \"\\ucca0\\uc218\",\n          \"John\",\n          \"\\uc601\\uc774\"\n        ],\n        \"semantic_type\": \"\",\n        \"description\": \"\"\n      }\n    },\n    {\n      \"column\": \"age\",\n      \"properties\": {\n        \"dtype\": \"number\",\n        \"std\": 7,\n        \"min\": 19,\n        \"max\": 34,\n        \"num_unique_values\": 3,\n        \"samples\": [\n          23,\n          34,\n          19\n        ],\n        \"semantic_type\": \"\",\n        \"description\": \"\"\n      }\n    }\n  ]\n}"
            }
          },
          "metadata": {},
          "execution_count": 2
        }
      ],
      "source": [
        "df1 = pd.DataFrame({\n",
        "    \"name\" : [\"철수\", \"John\", \"영이\"],\n",
        "    \"age\"  : [23, 34, 19]\n",
        "})\n",
        "df1"
      ]
    },
    {
      "cell_type": "code",
      "execution_count": null,
      "id": "b098cf8c",
      "metadata": {
        "id": "b098cf8c",
        "outputId": "1230f32d-be17-4803-87c0-0b659d24209f"
      },
      "outputs": [
        {
          "data": {
            "text/html": [
              "<div>\n",
              "<style scoped>\n",
              "    .dataframe tbody tr th:only-of-type {\n",
              "        vertical-align: middle;\n",
              "    }\n",
              "\n",
              "    .dataframe tbody tr th {\n",
              "        vertical-align: top;\n",
              "    }\n",
              "\n",
              "    .dataframe thead th {\n",
              "        text-align: right;\n",
              "    }\n",
              "</style>\n",
              "<table border=\"1\" class=\"dataframe\">\n",
              "  <thead>\n",
              "    <tr style=\"text-align: right;\">\n",
              "      <th></th>\n",
              "      <th>name</th>\n",
              "      <th>sex</th>\n",
              "    </tr>\n",
              "  </thead>\n",
              "  <tbody>\n",
              "    <tr>\n",
              "      <th>0</th>\n",
              "      <td>철수</td>\n",
              "      <td>M</td>\n",
              "    </tr>\n",
              "    <tr>\n",
              "      <th>1</th>\n",
              "      <td>영이</td>\n",
              "      <td>F</td>\n",
              "    </tr>\n",
              "    <tr>\n",
              "      <th>2</th>\n",
              "      <td>John</td>\n",
              "      <td>M</td>\n",
              "    </tr>\n",
              "  </tbody>\n",
              "</table>\n",
              "</div>"
            ],
            "text/plain": [
              "   name sex\n",
              "0    철수   M\n",
              "1    영이   F\n",
              "2  John   M"
            ]
          },
          "execution_count": 3,
          "metadata": {},
          "output_type": "execute_result"
        }
      ],
      "source": [
        "df2 = pd.DataFrame({\n",
        "    \"name\" : [\"철수\", \"영이\", \"John\"],\n",
        "    \"sex\"  : [\"M\", \"F\", \"M\"]\n",
        "})\n",
        "df2"
      ]
    },
    {
      "cell_type": "markdown",
      "id": "75d91544",
      "metadata": {
        "id": "75d91544"
      },
      "source": [
        "데이터프레임 `df1` 과 `df2` 에는 같은 이름을 가지는 열 `name` 이 있다. 우리는 두 개의 데이터프레임을 합쳐서 나이(`age`)와 성(`sex`) 이 모두 포함된 새로운 데이터프레임을 만들려고 한다.\n",
        "\n",
        "이렇게 공통으로 포함된 열의 정보를 이용하여 두 개의 데이터프레임을 결합하려면  pandas 라이브러리의 `merge()` 함수 를 이용한다.\n",
        "\n",
        "- `merge()` 함수의 첫 번째(**왼쪽**)와 두 번째 인자(**오른쪽**)에는 결합할 데이터프레임의 이름을 넣어준다.\n",
        "\n",
        "- 앞에 `pd.` 를 붙여서 `pd.merge()` 로 사용하는 것은 함수 `merge()` 가 pandas 라이브러리에 있다는 것을 알려준다.\n",
        "\n",
        "-  선택문 `on=` 에 두 데이터프레임에 **결합의 기준이 되는 열이름**을 문자열로 지정해준다. 결합의 기준으로 사용되는 열이름은 두 개의 데이터프레임에 모두 존재해야 한다.\n",
        "\n",
        "- 자료의 결합에 사용되는 공통으로 포함된 열의 내용을 **식별자(key, identifier,..)** 라고 부른다. 이 예제에서 식별자는 사람의 이름이다.   \n",
        "\n",
        "다음 코드의 결과를 먼저 보자."
      ]
    },
    {
      "cell_type": "code",
      "execution_count": null,
      "id": "a2574587",
      "metadata": {
        "id": "a2574587",
        "outputId": "87836e5e-eccc-4025-e939-b3cc09b0901e"
      },
      "outputs": [
        {
          "data": {
            "text/html": [
              "<div>\n",
              "<style scoped>\n",
              "    .dataframe tbody tr th:only-of-type {\n",
              "        vertical-align: middle;\n",
              "    }\n",
              "\n",
              "    .dataframe tbody tr th {\n",
              "        vertical-align: top;\n",
              "    }\n",
              "\n",
              "    .dataframe thead th {\n",
              "        text-align: right;\n",
              "    }\n",
              "</style>\n",
              "<table border=\"1\" class=\"dataframe\">\n",
              "  <thead>\n",
              "    <tr style=\"text-align: right;\">\n",
              "      <th></th>\n",
              "      <th>name</th>\n",
              "      <th>age</th>\n",
              "      <th>sex</th>\n",
              "    </tr>\n",
              "  </thead>\n",
              "  <tbody>\n",
              "    <tr>\n",
              "      <th>0</th>\n",
              "      <td>철수</td>\n",
              "      <td>23</td>\n",
              "      <td>M</td>\n",
              "    </tr>\n",
              "    <tr>\n",
              "      <th>1</th>\n",
              "      <td>영이</td>\n",
              "      <td>34</td>\n",
              "      <td>F</td>\n",
              "    </tr>\n",
              "    <tr>\n",
              "      <th>2</th>\n",
              "      <td>John</td>\n",
              "      <td>19</td>\n",
              "      <td>M</td>\n",
              "    </tr>\n",
              "  </tbody>\n",
              "</table>\n",
              "</div>"
            ],
            "text/plain": [
              "   name  age sex\n",
              "0    철수   23   M\n",
              "1    영이   34   F\n",
              "2  John   19   M"
            ]
          },
          "execution_count": 4,
          "metadata": {},
          "output_type": "execute_result"
        }
      ],
      "source": [
        "pd.merge(df1, df2, on=\"name\")"
      ]
    },
    {
      "cell_type": "markdown",
      "id": "ac09045a",
      "metadata": {
        "id": "ac09045a"
      },
      "source": [
        "두 개의 데이터프레임이 지정된 열 `name` 에 의하여 결합되어 나이(`age`)와 성(`sex`)이 같이 나타나게 된다."
      ]
    },
    {
      "cell_type": "markdown",
      "id": "ca28feec",
      "metadata": {
        "id": "ca28feec"
      },
      "source": [
        "## 식별자의 불일치"
      ]
    },
    {
      "cell_type": "markdown",
      "id": "53be4c7a",
      "metadata": {
        "id": "53be4c7a"
      },
      "source": [
        "만약 두 개의 데이터프레임에 있는 식별자에 포함된 자료가 다르면 어떻게 될까?\n",
        "\n",
        "다음과 같이 `john` 의 자료가 빠져 있는 데이터프레임 `df3`을  `df1` 과 결합해 보자."
      ]
    },
    {
      "cell_type": "code",
      "execution_count": null,
      "id": "8830443f",
      "metadata": {
        "id": "8830443f",
        "outputId": "165545b2-bafa-438e-82b7-d541160d7165"
      },
      "outputs": [
        {
          "data": {
            "text/html": [
              "<div>\n",
              "<style scoped>\n",
              "    .dataframe tbody tr th:only-of-type {\n",
              "        vertical-align: middle;\n",
              "    }\n",
              "\n",
              "    .dataframe tbody tr th {\n",
              "        vertical-align: top;\n",
              "    }\n",
              "\n",
              "    .dataframe thead th {\n",
              "        text-align: right;\n",
              "    }\n",
              "</style>\n",
              "<table border=\"1\" class=\"dataframe\">\n",
              "  <thead>\n",
              "    <tr style=\"text-align: right;\">\n",
              "      <th></th>\n",
              "      <th>name</th>\n",
              "      <th>weight</th>\n",
              "    </tr>\n",
              "  </thead>\n",
              "  <tbody>\n",
              "    <tr>\n",
              "      <th>0</th>\n",
              "      <td>철수</td>\n",
              "      <td>55</td>\n",
              "    </tr>\n",
              "    <tr>\n",
              "      <th>1</th>\n",
              "      <td>영이</td>\n",
              "      <td>44</td>\n",
              "    </tr>\n",
              "  </tbody>\n",
              "</table>\n",
              "</div>"
            ],
            "text/plain": [
              "  name  weight\n",
              "0   철수      55\n",
              "1   영이      44"
            ]
          },
          "execution_count": 5,
          "metadata": {},
          "output_type": "execute_result"
        }
      ],
      "source": [
        "df3 = pd.DataFrame({\n",
        "    \"name\" : [\"철수\", \"영이\"],\n",
        "    \"weight\"  : [55, 44]\n",
        "})\n",
        "df3"
      ]
    },
    {
      "cell_type": "code",
      "execution_count": null,
      "id": "0bf05687",
      "metadata": {
        "id": "0bf05687",
        "outputId": "5e6b04b9-2daf-4e23-8066-7ebf07284a62"
      },
      "outputs": [
        {
          "data": {
            "text/html": [
              "<div>\n",
              "<style scoped>\n",
              "    .dataframe tbody tr th:only-of-type {\n",
              "        vertical-align: middle;\n",
              "    }\n",
              "\n",
              "    .dataframe tbody tr th {\n",
              "        vertical-align: top;\n",
              "    }\n",
              "\n",
              "    .dataframe thead th {\n",
              "        text-align: right;\n",
              "    }\n",
              "</style>\n",
              "<table border=\"1\" class=\"dataframe\">\n",
              "  <thead>\n",
              "    <tr style=\"text-align: right;\">\n",
              "      <th></th>\n",
              "      <th>name</th>\n",
              "      <th>age</th>\n",
              "      <th>weight</th>\n",
              "    </tr>\n",
              "  </thead>\n",
              "  <tbody>\n",
              "    <tr>\n",
              "      <th>0</th>\n",
              "      <td>철수</td>\n",
              "      <td>23</td>\n",
              "      <td>55</td>\n",
              "    </tr>\n",
              "    <tr>\n",
              "      <th>1</th>\n",
              "      <td>영이</td>\n",
              "      <td>34</td>\n",
              "      <td>44</td>\n",
              "    </tr>\n",
              "  </tbody>\n",
              "</table>\n",
              "</div>"
            ],
            "text/plain": [
              "  name  age  weight\n",
              "0   철수   23      55\n",
              "1   영이   34      44"
            ]
          },
          "execution_count": 6,
          "metadata": {},
          "output_type": "execute_result"
        }
      ],
      "source": [
        "pd.merge(df1, df3, on=\"name\")\n",
        "\n",
        "#쌍 없으면 삭제 시킴"
      ]
    },
    {
      "cell_type": "markdown",
      "id": "f4360c46",
      "metadata": {
        "id": "f4360c46"
      },
      "source": [
        "위의 결과에서 `John` 의 자료가 사라져 버렸다. 물론 몸무게 값이 없는 `John` 의 자료가 필요없을 수도 있지만 많은 경우 자료를 유지해야 한다.\n",
        "\n",
        "이렇게 식별자의 항목이 다른 경우, 결합의 기준이 되는 식별자를 데이터프레임의 위치로 지정할 수 있다. 위에서 함수 `merge()`를 설명할 때 사용되는 데이터프레임의 위치에 따라서 **왼쪽** (첫 번째 인자) 과  **오른쪽** (두 번째 인자)으로 나타냈다.\n",
        "\n",
        "```\n",
        "pd.merge(left, right, ....)\n",
        "```\n",
        "\n",
        "이제 결합시 기준이 되는 식별자가 왼쪽에 있는 데이터프레임 `df1` 에 있다는 것을 선택명령문 `how='left'` 로 알려주자."
      ]
    },
    {
      "cell_type": "code",
      "execution_count": null,
      "id": "c6a82a56",
      "metadata": {
        "id": "c6a82a56",
        "outputId": "1d2e7438-131e-4190-ec66-6fb27f91caf6"
      },
      "outputs": [
        {
          "data": {
            "text/html": [
              "<div>\n",
              "<style scoped>\n",
              "    .dataframe tbody tr th:only-of-type {\n",
              "        vertical-align: middle;\n",
              "    }\n",
              "\n",
              "    .dataframe tbody tr th {\n",
              "        vertical-align: top;\n",
              "    }\n",
              "\n",
              "    .dataframe thead th {\n",
              "        text-align: right;\n",
              "    }\n",
              "</style>\n",
              "<table border=\"1\" class=\"dataframe\">\n",
              "  <thead>\n",
              "    <tr style=\"text-align: right;\">\n",
              "      <th></th>\n",
              "      <th>name</th>\n",
              "      <th>age</th>\n",
              "      <th>weight</th>\n",
              "    </tr>\n",
              "  </thead>\n",
              "  <tbody>\n",
              "    <tr>\n",
              "      <th>0</th>\n",
              "      <td>철수</td>\n",
              "      <td>23</td>\n",
              "      <td>55.0</td>\n",
              "    </tr>\n",
              "    <tr>\n",
              "      <th>1</th>\n",
              "      <td>영이</td>\n",
              "      <td>34</td>\n",
              "      <td>44.0</td>\n",
              "    </tr>\n",
              "    <tr>\n",
              "      <th>2</th>\n",
              "      <td>John</td>\n",
              "      <td>19</td>\n",
              "      <td>NaN</td>\n",
              "    </tr>\n",
              "  </tbody>\n",
              "</table>\n",
              "</div>"
            ],
            "text/plain": [
              "   name  age  weight\n",
              "0    철수   23    55.0\n",
              "1    영이   34    44.0\n",
              "2  John   19     NaN"
            ]
          },
          "execution_count": 7,
          "metadata": {},
          "output_type": "execute_result"
        }
      ],
      "source": [
        "pd.merge(df1, df3, on=\"name\", how='left')\n",
        "#왼쪽이 df1"
      ]
    },
    {
      "cell_type": "markdown",
      "id": "47aeecd9",
      "metadata": {
        "id": "47aeecd9"
      },
      "source": [
        " 이제 `John` 의 자료가 나타나고 `John` 의 키는 결측값(`NaN`) 으로 표시된다."
      ]
    },
    {
      "cell_type": "markdown",
      "id": "d872bab1",
      "metadata": {
        "id": "d872bab1"
      },
      "source": [
        "만약 두 개의 식별자에 서로 다른 내용이 나타나면 어떻게 될까?\n",
        "\n",
        "이제 새로운 사람 `흥민`의 자료를 가진 데이터프레임 `df4`를 `df1` 과 결합하는 예를 살펴보자. 아래 코드에서 선택명령문 `how=` 에 지정된 문자열에 따라서 결합의 결과가 어떻게 다른지 보자."
      ]
    },
    {
      "cell_type": "code",
      "execution_count": null,
      "id": "7ac754da",
      "metadata": {
        "id": "7ac754da",
        "outputId": "ec7d6a22-54e9-4fb8-bd57-75fa4ce26169"
      },
      "outputs": [
        {
          "data": {
            "text/html": [
              "<div>\n",
              "<style scoped>\n",
              "    .dataframe tbody tr th:only-of-type {\n",
              "        vertical-align: middle;\n",
              "    }\n",
              "\n",
              "    .dataframe tbody tr th {\n",
              "        vertical-align: top;\n",
              "    }\n",
              "\n",
              "    .dataframe thead th {\n",
              "        text-align: right;\n",
              "    }\n",
              "</style>\n",
              "<table border=\"1\" class=\"dataframe\">\n",
              "  <thead>\n",
              "    <tr style=\"text-align: right;\">\n",
              "      <th></th>\n",
              "      <th>name</th>\n",
              "      <th>height</th>\n",
              "    </tr>\n",
              "  </thead>\n",
              "  <tbody>\n",
              "    <tr>\n",
              "      <th>0</th>\n",
              "      <td>철수</td>\n",
              "      <td>167</td>\n",
              "    </tr>\n",
              "    <tr>\n",
              "      <th>1</th>\n",
              "      <td>영이</td>\n",
              "      <td>175</td>\n",
              "    </tr>\n",
              "    <tr>\n",
              "      <th>2</th>\n",
              "      <td>흥민</td>\n",
              "      <td>183</td>\n",
              "    </tr>\n",
              "  </tbody>\n",
              "</table>\n",
              "</div>"
            ],
            "text/plain": [
              "  name  height\n",
              "0   철수     167\n",
              "1   영이     175\n",
              "2   흥민     183"
            ]
          },
          "execution_count": 8,
          "metadata": {},
          "output_type": "execute_result"
        }
      ],
      "source": [
        "df4 = pd.DataFrame({\n",
        "    \"name\" : [\"철수\", \"영이\", \"흥민\"],\n",
        "    \"height\"  : [167, 175, 183]\n",
        "})\n",
        "df4"
      ]
    },
    {
      "cell_type": "code",
      "execution_count": null,
      "id": "b80c34ac",
      "metadata": {
        "id": "b80c34ac",
        "outputId": "ffa99c86-60fe-4f28-98f1-f0397f3700cb"
      },
      "outputs": [
        {
          "data": {
            "text/html": [
              "<div>\n",
              "<style scoped>\n",
              "    .dataframe tbody tr th:only-of-type {\n",
              "        vertical-align: middle;\n",
              "    }\n",
              "\n",
              "    .dataframe tbody tr th {\n",
              "        vertical-align: top;\n",
              "    }\n",
              "\n",
              "    .dataframe thead th {\n",
              "        text-align: right;\n",
              "    }\n",
              "</style>\n",
              "<table border=\"1\" class=\"dataframe\">\n",
              "  <thead>\n",
              "    <tr style=\"text-align: right;\">\n",
              "      <th></th>\n",
              "      <th>name</th>\n",
              "      <th>age</th>\n",
              "      <th>height</th>\n",
              "    </tr>\n",
              "  </thead>\n",
              "  <tbody>\n",
              "    <tr>\n",
              "      <th>0</th>\n",
              "      <td>철수</td>\n",
              "      <td>23</td>\n",
              "      <td>167.0</td>\n",
              "    </tr>\n",
              "    <tr>\n",
              "      <th>1</th>\n",
              "      <td>영이</td>\n",
              "      <td>34</td>\n",
              "      <td>175.0</td>\n",
              "    </tr>\n",
              "    <tr>\n",
              "      <th>2</th>\n",
              "      <td>John</td>\n",
              "      <td>19</td>\n",
              "      <td>NaN</td>\n",
              "    </tr>\n",
              "  </tbody>\n",
              "</table>\n",
              "</div>"
            ],
            "text/plain": [
              "   name  age  height\n",
              "0    철수   23   167.0\n",
              "1    영이   34   175.0\n",
              "2  John   19     NaN"
            ]
          },
          "execution_count": 9,
          "metadata": {},
          "output_type": "execute_result"
        }
      ],
      "source": [
        "pd.merge(df1, df4, on=\"name\", how='left')  # 식별자는 왼쪽 데이터프레임에만 있는 것으로"
      ]
    },
    {
      "cell_type": "code",
      "execution_count": null,
      "id": "03245c22",
      "metadata": {
        "id": "03245c22",
        "outputId": "2ba0acb5-310c-4c6f-d0c5-8a18c8622315"
      },
      "outputs": [
        {
          "data": {
            "text/html": [
              "<div>\n",
              "<style scoped>\n",
              "    .dataframe tbody tr th:only-of-type {\n",
              "        vertical-align: middle;\n",
              "    }\n",
              "\n",
              "    .dataframe tbody tr th {\n",
              "        vertical-align: top;\n",
              "    }\n",
              "\n",
              "    .dataframe thead th {\n",
              "        text-align: right;\n",
              "    }\n",
              "</style>\n",
              "<table border=\"1\" class=\"dataframe\">\n",
              "  <thead>\n",
              "    <tr style=\"text-align: right;\">\n",
              "      <th></th>\n",
              "      <th>name</th>\n",
              "      <th>age</th>\n",
              "      <th>height</th>\n",
              "    </tr>\n",
              "  </thead>\n",
              "  <tbody>\n",
              "    <tr>\n",
              "      <th>0</th>\n",
              "      <td>철수</td>\n",
              "      <td>23.0</td>\n",
              "      <td>167</td>\n",
              "    </tr>\n",
              "    <tr>\n",
              "      <th>1</th>\n",
              "      <td>영이</td>\n",
              "      <td>34.0</td>\n",
              "      <td>175</td>\n",
              "    </tr>\n",
              "    <tr>\n",
              "      <th>2</th>\n",
              "      <td>흥민</td>\n",
              "      <td>NaN</td>\n",
              "      <td>183</td>\n",
              "    </tr>\n",
              "  </tbody>\n",
              "</table>\n",
              "</div>"
            ],
            "text/plain": [
              "  name   age  height\n",
              "0   철수  23.0     167\n",
              "1   영이  34.0     175\n",
              "2   흥민   NaN     183"
            ]
          },
          "execution_count": 10,
          "metadata": {},
          "output_type": "execute_result"
        }
      ],
      "source": [
        "pd.merge(df1, df4, on=\"name\", how='right') # 식별자는 오른쪽 데이터프레임만 있는 것으로"
      ]
    },
    {
      "cell_type": "code",
      "execution_count": null,
      "id": "8724936e",
      "metadata": {
        "id": "8724936e",
        "outputId": "bf812147-cb16-4be4-fe3b-12791f54e994"
      },
      "outputs": [
        {
          "data": {
            "text/html": [
              "<div>\n",
              "<style scoped>\n",
              "    .dataframe tbody tr th:only-of-type {\n",
              "        vertical-align: middle;\n",
              "    }\n",
              "\n",
              "    .dataframe tbody tr th {\n",
              "        vertical-align: top;\n",
              "    }\n",
              "\n",
              "    .dataframe thead th {\n",
              "        text-align: right;\n",
              "    }\n",
              "</style>\n",
              "<table border=\"1\" class=\"dataframe\">\n",
              "  <thead>\n",
              "    <tr style=\"text-align: right;\">\n",
              "      <th></th>\n",
              "      <th>name</th>\n",
              "      <th>age</th>\n",
              "      <th>height</th>\n",
              "    </tr>\n",
              "  </thead>\n",
              "  <tbody>\n",
              "    <tr>\n",
              "      <th>0</th>\n",
              "      <td>철수</td>\n",
              "      <td>23</td>\n",
              "      <td>167</td>\n",
              "    </tr>\n",
              "    <tr>\n",
              "      <th>1</th>\n",
              "      <td>영이</td>\n",
              "      <td>34</td>\n",
              "      <td>175</td>\n",
              "    </tr>\n",
              "  </tbody>\n",
              "</table>\n",
              "</div>"
            ],
            "text/plain": [
              "  name  age  height\n",
              "0   철수   23     167\n",
              "1   영이   34     175"
            ]
          },
          "execution_count": 11,
          "metadata": {},
          "output_type": "execute_result"
        }
      ],
      "source": [
        "pd.merge(df1, df4, on=\"name\", how='inner') # 식별자는 두 데이터프레임에 공통인 것"
      ]
    },
    {
      "cell_type": "code",
      "execution_count": null,
      "id": "c2bbb685",
      "metadata": {
        "id": "c2bbb685",
        "outputId": "8582a387-3b62-49e0-b178-44b8edef221b"
      },
      "outputs": [
        {
          "data": {
            "text/html": [
              "<div>\n",
              "<style scoped>\n",
              "    .dataframe tbody tr th:only-of-type {\n",
              "        vertical-align: middle;\n",
              "    }\n",
              "\n",
              "    .dataframe tbody tr th {\n",
              "        vertical-align: top;\n",
              "    }\n",
              "\n",
              "    .dataframe thead th {\n",
              "        text-align: right;\n",
              "    }\n",
              "</style>\n",
              "<table border=\"1\" class=\"dataframe\">\n",
              "  <thead>\n",
              "    <tr style=\"text-align: right;\">\n",
              "      <th></th>\n",
              "      <th>name</th>\n",
              "      <th>age</th>\n",
              "      <th>height</th>\n",
              "    </tr>\n",
              "  </thead>\n",
              "  <tbody>\n",
              "    <tr>\n",
              "      <th>0</th>\n",
              "      <td>철수</td>\n",
              "      <td>23.0</td>\n",
              "      <td>167.0</td>\n",
              "    </tr>\n",
              "    <tr>\n",
              "      <th>1</th>\n",
              "      <td>영이</td>\n",
              "      <td>34.0</td>\n",
              "      <td>175.0</td>\n",
              "    </tr>\n",
              "    <tr>\n",
              "      <th>2</th>\n",
              "      <td>John</td>\n",
              "      <td>19.0</td>\n",
              "      <td>NaN</td>\n",
              "    </tr>\n",
              "    <tr>\n",
              "      <th>3</th>\n",
              "      <td>흥민</td>\n",
              "      <td>NaN</td>\n",
              "      <td>183.0</td>\n",
              "    </tr>\n",
              "  </tbody>\n",
              "</table>\n",
              "</div>"
            ],
            "text/plain": [
              "   name   age  height\n",
              "0    철수  23.0   167.0\n",
              "1    영이  34.0   175.0\n",
              "2  John  19.0     NaN\n",
              "3    흥민   NaN   183.0"
            ]
          },
          "execution_count": 12,
          "metadata": {},
          "output_type": "execute_result"
        }
      ],
      "source": [
        "pd.merge(df1, df4, on=\"name\", how='outer')  # 식별자는 두 데이터프레임의 모든 것"
      ]
    },
    {
      "cell_type": "markdown",
      "id": "e0f3cb0f",
      "metadata": {
        "id": "e0f3cb0f"
      },
      "source": [
        "## 요약"
      ]
    },
    {
      "cell_type": "markdown",
      "id": "9b8b2323",
      "metadata": {
        "id": "9b8b2323"
      },
      "source": [
        "두 개의 데이터프라임을 결합하는 경우 pandas 라이브러리의 함수 `merge()` 를 사용하며 식별자가 포함된 공통의 열은 `on=` 으로 지정한다.\n",
        "\n",
        "```\n",
        "pd.merge(left_df, right_df, on=\"name\", how=\"inner\")\n",
        "```\n",
        "\n",
        "이제 두 개의 데이터 프레임을 결합할 때 식별자를 선택하는 방법을 요약해 보자.\n",
        "\n",
        "- `how='left'` : 식별자는 왼쪽 데이터프레임에만 있는 것으로 선택\n",
        "- `how='right'` : 식별자는 오른쪽 데이터프레임에만 있는 것으로 선택\n",
        "- `how='inner'` : 식별자는 두 데이터프레임에 공통인 것으로 선택\n",
        "- `how='outer'` : 식별자는 두 데이터프레임에 나타난 모든 것으로 선택\n",
        "\n",
        "\n",
        "식별자를 선택하는 선택명령문 `how=` 을 지정하지 않으면 디폴트는 방법은 `how='inner` 이다."
      ]
    },
    {
      "cell_type": "markdown",
      "id": "f8a3a29e",
      "metadata": {
        "id": "f8a3a29e"
      },
      "source": [
        "## 가구당 평균 인원수"
      ]
    },
    {
      "cell_type": "markdown",
      "id": "28c730da",
      "metadata": {
        "id": "28c730da"
      },
      "source": [
        "앞 절에서 우리나라의 1인 가구수의 비율이 연도별로 어떻게 변화헸는지 알아보있다.\n",
        "\n",
        "이제 연도별로 가구당 평균 인원수가 어떻게 변화되었는지 알아보자. 가구당 평균 인원수를 알기 위해서는 우리나라의 전체 가구수뿐 만아니라 전체 인구수도 알아야 한다.\n",
        "\n",
        "$$ \\text{가구당 평균 인원수 }= \\frac{\\text{전체 인구수}}{\\text{전체 가구수}} $$\n",
        "\n",
        "\n",
        "이제 가구 자료가 포함된 화일 `korea_house_data_01.csv`과 인구 자료가 포함된 화일 `korea_population_data_01.csv` 를 데이터프레임을 만들자. 다음으로 지금까지 배운 다양한 함수와 메소드를 이용하여 연도별 가구당 평균 인원수를 구하여 어떻게 변화했는지 알아보자.\n",
        "\n",
        "이제 통계청에서 받은 원자료를 데이터프레임으로 만들어서 정리하는 일련의 작업을 한번에 적용해 본다. 이렇게 여러 단계의 작업을 프로그램으로 만들어 놓으면 자료의 갱신이나 수정을 손쉽게 할 수 있다.   "
      ]
    },
    {
      "cell_type": "markdown",
      "id": "a588a825",
      "metadata": {
        "id": "a588a825"
      },
      "source": [
        "### 가구 자료의 정리\n",
        "\n",
        "먼저 앞 절에서 다루었던 가구 자료를 먼저 정리하여 필요한 데이터프레임을 만들자."
      ]
    },
    {
      "cell_type": "code",
      "execution_count": null,
      "id": "eac8e728",
      "metadata": {
        "id": "eac8e728",
        "outputId": "a35c0002-549b-4683-cfae-bf00019543e1"
      },
      "outputs": [
        {
          "data": {
            "text/html": [
              "<div>\n",
              "<style scoped>\n",
              "    .dataframe tbody tr th:only-of-type {\n",
              "        vertical-align: middle;\n",
              "    }\n",
              "\n",
              "    .dataframe tbody tr th {\n",
              "        vertical-align: top;\n",
              "    }\n",
              "\n",
              "    .dataframe thead th {\n",
              "        text-align: right;\n",
              "    }\n",
              "</style>\n",
              "<table border=\"1\" class=\"dataframe\">\n",
              "  <thead>\n",
              "    <tr style=\"text-align: right;\">\n",
              "      <th></th>\n",
              "      <th>시점</th>\n",
              "      <th>행정구역별(읍면동)</th>\n",
              "      <th>일반가구_계</th>\n",
              "      <th>1인</th>\n",
              "      <th>2인</th>\n",
              "      <th>3인</th>\n",
              "      <th>4인</th>\n",
              "      <th>5인</th>\n",
              "      <th>6인</th>\n",
              "      <th>7인 이상</th>\n",
              "    </tr>\n",
              "  </thead>\n",
              "  <tbody>\n",
              "    <tr>\n",
              "      <th>0</th>\n",
              "      <td>2015</td>\n",
              "      <td>전국</td>\n",
              "      <td>19111030</td>\n",
              "      <td>5203440</td>\n",
              "      <td>4993818</td>\n",
              "      <td>4100979</td>\n",
              "      <td>3588931</td>\n",
              "      <td>940413</td>\n",
              "      <td>217474</td>\n",
              "      <td>65975</td>\n",
              "    </tr>\n",
              "    <tr>\n",
              "      <th>1</th>\n",
              "      <td>2015</td>\n",
              "      <td>서울특별시</td>\n",
              "      <td>3784490</td>\n",
              "      <td>1115744</td>\n",
              "      <td>930467</td>\n",
              "      <td>817440</td>\n",
              "      <td>701945</td>\n",
              "      <td>169436</td>\n",
              "      <td>38547</td>\n",
              "      <td>10911</td>\n",
              "    </tr>\n",
              "    <tr>\n",
              "      <th>2</th>\n",
              "      <td>2015</td>\n",
              "      <td>부산광역시</td>\n",
              "      <td>1335900</td>\n",
              "      <td>361749</td>\n",
              "      <td>366048</td>\n",
              "      <td>296742</td>\n",
              "      <td>238031</td>\n",
              "      <td>56971</td>\n",
              "      <td>12928</td>\n",
              "      <td>3431</td>\n",
              "    </tr>\n",
              "    <tr>\n",
              "      <th>3</th>\n",
              "      <td>2015</td>\n",
              "      <td>대구광역시</td>\n",
              "      <td>928528</td>\n",
              "      <td>239517</td>\n",
              "      <td>239824</td>\n",
              "      <td>208795</td>\n",
              "      <td>184258</td>\n",
              "      <td>44071</td>\n",
              "      <td>9582</td>\n",
              "      <td>2481</td>\n",
              "    </tr>\n",
              "    <tr>\n",
              "      <th>4</th>\n",
              "      <td>2015</td>\n",
              "      <td>인천광역시</td>\n",
              "      <td>1045417</td>\n",
              "      <td>243678</td>\n",
              "      <td>265079</td>\n",
              "      <td>245135</td>\n",
              "      <td>220538</td>\n",
              "      <td>55230</td>\n",
              "      <td>12253</td>\n",
              "      <td>3504</td>\n",
              "    </tr>\n",
              "  </tbody>\n",
              "</table>\n",
              "</div>"
            ],
            "text/plain": [
              "     시점 행정구역별(읍면동)    일반가구_계       1인       2인       3인       4인      5인  \\\n",
              "0  2015         전국  19111030  5203440  4993818  4100979  3588931  940413   \n",
              "1  2015      서울특별시   3784490  1115744   930467   817440   701945  169436   \n",
              "2  2015      부산광역시   1335900   361749   366048   296742   238031   56971   \n",
              "3  2015      대구광역시    928528   239517   239824   208795   184258   44071   \n",
              "4  2015      인천광역시   1045417   243678   265079   245135   220538   55230   \n",
              "\n",
              "       6인  7인 이상  \n",
              "0  217474  65975  \n",
              "1   38547  10911  \n",
              "2   12928   3431  \n",
              "3    9582   2481  \n",
              "4   12253   3504  "
            ]
          },
          "execution_count": 13,
          "metadata": {},
          "output_type": "execute_result"
        }
      ],
      "source": [
        "url1= \"https://ilovedata.github.io/teaching/bigdata2/data/korea_house_data_01.csv\"\n",
        "house = pd.read_csv(url1, encoding=\"CP949\")\n",
        "house.head(5)"
      ]
    },
    {
      "cell_type": "markdown",
      "id": "8943c0d5",
      "metadata": {
        "id": "8943c0d5"
      },
      "source": [
        "이제 배운 다양한 메소드를 차례대로 적용하여 연도별 총가구수를 가진 데이터프레임 `house_final` 을 만들어 보자.\n",
        "\n",
        "먼저 열 `\"일반가구_계` 과 행 `전국` 을 제외하고 열이름을 바꾼다. 모두 `inplace= True`을 사용하여 데이터프레임 `house` 가 변경된다."
      ]
    },
    {
      "cell_type": "code",
      "execution_count": null,
      "id": "e7da1857",
      "metadata": {
        "id": "e7da1857"
      },
      "outputs": [],
      "source": [
        "house.drop(columns = [\"일반가구_계\"], inplace= True)"
      ]
    },
    {
      "cell_type": "code",
      "execution_count": null,
      "id": "ee20b4c9",
      "metadata": {
        "id": "ee20b4c9"
      },
      "outputs": [],
      "source": [
        "index_for_delete = house[house[\"행정구역별(읍면동)\"] == '전국'].index"
      ]
    },
    {
      "cell_type": "code",
      "execution_count": null,
      "id": "7b322256",
      "metadata": {
        "id": "7b322256"
      },
      "outputs": [],
      "source": [
        "house.drop( index = index_for_delete, inplace= True )"
      ]
    },
    {
      "cell_type": "code",
      "execution_count": null,
      "id": "24e12872",
      "metadata": {
        "id": "24e12872"
      },
      "outputs": [],
      "source": [
        "house.rename( columns={\n",
        "\t\"시점\" : \"year\", \"행정구역별(읍면동)\" : \"region\",\n",
        "\t\"1인\" : \"p1\", \"2인\" : \"p2\", \"3인\" : \"p3\", \"4인\" : \"p4\",\n",
        "\t\"5인\" : \"p5\", \"6인\" : \"p6\", \"7인 이상\" : \"p7plus\"},\n",
        "\tinplace=True)"
      ]
    },
    {
      "cell_type": "code",
      "execution_count": null,
      "id": "2cd67c77",
      "metadata": {
        "id": "2cd67c77",
        "outputId": "16cd16c7-3f38-4feb-bcc0-f86c795e2e49"
      },
      "outputs": [
        {
          "data": {
            "text/html": [
              "<div>\n",
              "<style scoped>\n",
              "    .dataframe tbody tr th:only-of-type {\n",
              "        vertical-align: middle;\n",
              "    }\n",
              "\n",
              "    .dataframe tbody tr th {\n",
              "        vertical-align: top;\n",
              "    }\n",
              "\n",
              "    .dataframe thead th {\n",
              "        text-align: right;\n",
              "    }\n",
              "</style>\n",
              "<table border=\"1\" class=\"dataframe\">\n",
              "  <thead>\n",
              "    <tr style=\"text-align: right;\">\n",
              "      <th></th>\n",
              "      <th>year</th>\n",
              "      <th>region</th>\n",
              "      <th>p1</th>\n",
              "      <th>p2</th>\n",
              "      <th>p3</th>\n",
              "      <th>p4</th>\n",
              "      <th>p5</th>\n",
              "      <th>p6</th>\n",
              "      <th>p7plus</th>\n",
              "    </tr>\n",
              "  </thead>\n",
              "  <tbody>\n",
              "    <tr>\n",
              "      <th>1</th>\n",
              "      <td>2015</td>\n",
              "      <td>서울특별시</td>\n",
              "      <td>1115744</td>\n",
              "      <td>930467</td>\n",
              "      <td>817440</td>\n",
              "      <td>701945</td>\n",
              "      <td>169436</td>\n",
              "      <td>38547</td>\n",
              "      <td>10911</td>\n",
              "    </tr>\n",
              "    <tr>\n",
              "      <th>2</th>\n",
              "      <td>2015</td>\n",
              "      <td>부산광역시</td>\n",
              "      <td>361749</td>\n",
              "      <td>366048</td>\n",
              "      <td>296742</td>\n",
              "      <td>238031</td>\n",
              "      <td>56971</td>\n",
              "      <td>12928</td>\n",
              "      <td>3431</td>\n",
              "    </tr>\n",
              "    <tr>\n",
              "      <th>3</th>\n",
              "      <td>2015</td>\n",
              "      <td>대구광역시</td>\n",
              "      <td>239517</td>\n",
              "      <td>239824</td>\n",
              "      <td>208795</td>\n",
              "      <td>184258</td>\n",
              "      <td>44071</td>\n",
              "      <td>9582</td>\n",
              "      <td>2481</td>\n",
              "    </tr>\n",
              "    <tr>\n",
              "      <th>4</th>\n",
              "      <td>2015</td>\n",
              "      <td>인천광역시</td>\n",
              "      <td>243678</td>\n",
              "      <td>265079</td>\n",
              "      <td>245135</td>\n",
              "      <td>220538</td>\n",
              "      <td>55230</td>\n",
              "      <td>12253</td>\n",
              "      <td>3504</td>\n",
              "    </tr>\n",
              "    <tr>\n",
              "      <th>5</th>\n",
              "      <td>2015</td>\n",
              "      <td>광주광역시</td>\n",
              "      <td>163577</td>\n",
              "      <td>137662</td>\n",
              "      <td>115701</td>\n",
              "      <td>109612</td>\n",
              "      <td>32199</td>\n",
              "      <td>6647</td>\n",
              "      <td>1759</td>\n",
              "    </tr>\n",
              "  </tbody>\n",
              "</table>\n",
              "</div>"
            ],
            "text/plain": [
              "   year region       p1      p2      p3      p4      p5     p6  p7plus\n",
              "1  2015  서울특별시  1115744  930467  817440  701945  169436  38547   10911\n",
              "2  2015  부산광역시   361749  366048  296742  238031   56971  12928    3431\n",
              "3  2015  대구광역시   239517  239824  208795  184258   44071   9582    2481\n",
              "4  2015  인천광역시   243678  265079  245135  220538   55230  12253    3504\n",
              "5  2015  광주광역시   163577  137662  115701  109612   32199   6647    1759"
            ]
          },
          "execution_count": 18,
          "metadata": {},
          "output_type": "execute_result"
        }
      ],
      "source": [
        "house.head(5)"
      ]
    },
    {
      "cell_type": "markdown",
      "id": "04d1dbdb",
      "metadata": {
        "id": "04d1dbdb"
      },
      "source": [
        "이제 년도별로 그룹을 만들어 시도 가구수를 모두 합치고 전국 가구수를 열 `house_total` 에 만들자."
      ]
    },
    {
      "cell_type": "code",
      "execution_count": null,
      "id": "59678e22",
      "metadata": {
        "id": "59678e22"
      },
      "outputs": [],
      "source": [
        "house_final =house.groupby( by=[\"year\"] ).sum().reset_index()"
      ]
    },
    {
      "cell_type": "code",
      "execution_count": null,
      "id": "701250de",
      "metadata": {
        "id": "701250de"
      },
      "outputs": [],
      "source": [
        "house_final['house_total'] = house_final[ [ \"p1\",\"p2\",\"p3\",\"p4\",\"p5\",\"p6\",\"p7plus\"] ].sum(axis=1)"
      ]
    },
    {
      "cell_type": "code",
      "execution_count": null,
      "id": "c4eb4a6c",
      "metadata": {
        "id": "c4eb4a6c",
        "outputId": "097807a9-78f1-42ca-f1a0-0d50199659f0"
      },
      "outputs": [
        {
          "data": {
            "text/html": [
              "<div>\n",
              "<style scoped>\n",
              "    .dataframe tbody tr th:only-of-type {\n",
              "        vertical-align: middle;\n",
              "    }\n",
              "\n",
              "    .dataframe tbody tr th {\n",
              "        vertical-align: top;\n",
              "    }\n",
              "\n",
              "    .dataframe thead th {\n",
              "        text-align: right;\n",
              "    }\n",
              "</style>\n",
              "<table border=\"1\" class=\"dataframe\">\n",
              "  <thead>\n",
              "    <tr style=\"text-align: right;\">\n",
              "      <th></th>\n",
              "      <th>year</th>\n",
              "      <th>p1</th>\n",
              "      <th>p2</th>\n",
              "      <th>p3</th>\n",
              "      <th>p4</th>\n",
              "      <th>p5</th>\n",
              "      <th>p6</th>\n",
              "      <th>p7plus</th>\n",
              "      <th>house_total</th>\n",
              "    </tr>\n",
              "  </thead>\n",
              "  <tbody>\n",
              "    <tr>\n",
              "      <th>0</th>\n",
              "      <td>2015</td>\n",
              "      <td>5203440</td>\n",
              "      <td>4993818</td>\n",
              "      <td>4100979</td>\n",
              "      <td>3588931</td>\n",
              "      <td>940413</td>\n",
              "      <td>217474</td>\n",
              "      <td>65975</td>\n",
              "      <td>19111030</td>\n",
              "    </tr>\n",
              "    <tr>\n",
              "      <th>1</th>\n",
              "      <td>2016</td>\n",
              "      <td>5397615</td>\n",
              "      <td>5067166</td>\n",
              "      <td>4151701</td>\n",
              "      <td>3551410</td>\n",
              "      <td>924373</td>\n",
              "      <td>211475</td>\n",
              "      <td>63956</td>\n",
              "      <td>19367696</td>\n",
              "    </tr>\n",
              "    <tr>\n",
              "      <th>2</th>\n",
              "      <td>2017</td>\n",
              "      <td>5618677</td>\n",
              "      <td>5260332</td>\n",
              "      <td>4178641</td>\n",
              "      <td>3473897</td>\n",
              "      <td>886479</td>\n",
              "      <td>197517</td>\n",
              "      <td>58332</td>\n",
              "      <td>19673875</td>\n",
              "    </tr>\n",
              "    <tr>\n",
              "      <th>3</th>\n",
              "      <td>2018</td>\n",
              "      <td>5848594</td>\n",
              "      <td>5445691</td>\n",
              "      <td>4203792</td>\n",
              "      <td>3396320</td>\n",
              "      <td>849167</td>\n",
              "      <td>182886</td>\n",
              "      <td>52738</td>\n",
              "      <td>19979188</td>\n",
              "    </tr>\n",
              "    <tr>\n",
              "      <th>4</th>\n",
              "      <td>2019</td>\n",
              "      <td>6147516</td>\n",
              "      <td>5663330</td>\n",
              "      <td>4217736</td>\n",
              "      <td>3300114</td>\n",
              "      <td>801048</td>\n",
              "      <td>166866</td>\n",
              "      <td>46578</td>\n",
              "      <td>20343188</td>\n",
              "    </tr>\n",
              "    <tr>\n",
              "      <th>5</th>\n",
              "      <td>2020</td>\n",
              "      <td>6643354</td>\n",
              "      <td>5864525</td>\n",
              "      <td>4200629</td>\n",
              "      <td>3271315</td>\n",
              "      <td>761417</td>\n",
              "      <td>147172</td>\n",
              "      <td>38298</td>\n",
              "      <td>20926710</td>\n",
              "    </tr>\n",
              "  </tbody>\n",
              "</table>\n",
              "</div>"
            ],
            "text/plain": [
              "   year       p1       p2       p3       p4      p5      p6  p7plus  \\\n",
              "0  2015  5203440  4993818  4100979  3588931  940413  217474   65975   \n",
              "1  2016  5397615  5067166  4151701  3551410  924373  211475   63956   \n",
              "2  2017  5618677  5260332  4178641  3473897  886479  197517   58332   \n",
              "3  2018  5848594  5445691  4203792  3396320  849167  182886   52738   \n",
              "4  2019  6147516  5663330  4217736  3300114  801048  166866   46578   \n",
              "5  2020  6643354  5864525  4200629  3271315  761417  147172   38298   \n",
              "\n",
              "   house_total  \n",
              "0     19111030  \n",
              "1     19367696  \n",
              "2     19673875  \n",
              "3     19979188  \n",
              "4     20343188  \n",
              "5     20926710  "
            ]
          },
          "execution_count": 21,
          "metadata": {},
          "output_type": "execute_result"
        }
      ],
      "source": [
        "house_final"
      ]
    },
    {
      "cell_type": "markdown",
      "id": "c06de3e8",
      "metadata": {
        "id": "c06de3e8"
      },
      "source": [
        "### 인구 자료의 정리\n",
        "\n",
        "이제 인구 자료를 읽어서 정리하여 필요한 데이터프레임을 만들자."
      ]
    },
    {
      "cell_type": "code",
      "execution_count": null,
      "id": "0e1b97b3",
      "metadata": {
        "id": "0e1b97b3"
      },
      "outputs": [],
      "source": [
        "url2 = \"https://ilovedata.github.io/teaching/bigdata2/data/korea_population_data_01.csv\"\n",
        "pop = pd.read_csv(url2, encoding=\"CP949\")"
      ]
    },
    {
      "cell_type": "code",
      "execution_count": null,
      "id": "06349092",
      "metadata": {
        "id": "06349092",
        "outputId": "3b6ff003-1d08-4bea-a424-ec0b6dbefb9f"
      },
      "outputs": [
        {
          "data": {
            "text/html": [
              "<div>\n",
              "<style scoped>\n",
              "    .dataframe tbody tr th:only-of-type {\n",
              "        vertical-align: middle;\n",
              "    }\n",
              "\n",
              "    .dataframe tbody tr th {\n",
              "        vertical-align: top;\n",
              "    }\n",
              "\n",
              "    .dataframe thead th {\n",
              "        text-align: right;\n",
              "    }\n",
              "</style>\n",
              "<table border=\"1\" class=\"dataframe\">\n",
              "  <thead>\n",
              "    <tr style=\"text-align: right;\">\n",
              "      <th></th>\n",
              "      <th>시점</th>\n",
              "      <th>행정구역별(읍면동)</th>\n",
              "      <th>남자(명)</th>\n",
              "      <th>여자(명)</th>\n",
              "    </tr>\n",
              "  </thead>\n",
              "  <tbody>\n",
              "    <tr>\n",
              "      <th>0</th>\n",
              "      <td>2015</td>\n",
              "      <td>서울특별시</td>\n",
              "      <td>4859535</td>\n",
              "      <td>5044777</td>\n",
              "    </tr>\n",
              "    <tr>\n",
              "      <th>1</th>\n",
              "      <td>2015</td>\n",
              "      <td>부산광역시</td>\n",
              "      <td>1701347</td>\n",
              "      <td>1747390</td>\n",
              "    </tr>\n",
              "    <tr>\n",
              "      <th>2</th>\n",
              "      <td>2015</td>\n",
              "      <td>대구광역시</td>\n",
              "      <td>1228511</td>\n",
              "      <td>1237541</td>\n",
              "    </tr>\n",
              "    <tr>\n",
              "      <th>3</th>\n",
              "      <td>2015</td>\n",
              "      <td>인천광역시</td>\n",
              "      <td>1455017</td>\n",
              "      <td>1435434</td>\n",
              "    </tr>\n",
              "    <tr>\n",
              "      <th>4</th>\n",
              "      <td>2015</td>\n",
              "      <td>광주광역시</td>\n",
              "      <td>748867</td>\n",
              "      <td>754014</td>\n",
              "    </tr>\n",
              "  </tbody>\n",
              "</table>\n",
              "</div>"
            ],
            "text/plain": [
              "     시점 행정구역별(읍면동)    남자(명)    여자(명)\n",
              "0  2015      서울특별시  4859535  5044777\n",
              "1  2015      부산광역시  1701347  1747390\n",
              "2  2015      대구광역시  1228511  1237541\n",
              "3  2015      인천광역시  1455017  1435434\n",
              "4  2015      광주광역시   748867   754014"
            ]
          },
          "execution_count": 23,
          "metadata": {},
          "output_type": "execute_result"
        }
      ],
      "source": [
        "pop.head(5)"
      ]
    },
    {
      "cell_type": "markdown",
      "id": "54594a2a",
      "metadata": {
        "id": "54594a2a"
      },
      "source": [
        "열이름을 영문으로 바꾸고 연도별 총인구수를 가진 열 `pop_total` 를 만들어 보자."
      ]
    },
    {
      "cell_type": "code",
      "execution_count": null,
      "id": "9b137df0",
      "metadata": {
        "id": "9b137df0"
      },
      "outputs": [],
      "source": [
        "pop.rename( columns={\n",
        "\t\"시점\" : \"year\", \"행정구역별(읍면동)\" : \"region\",\n",
        "\t\"남자(명)\" : \"male\", \"여자(명)\" : \"female\"},\n",
        "\tinplace=True)"
      ]
    },
    {
      "cell_type": "code",
      "execution_count": null,
      "id": "dc0235e5",
      "metadata": {
        "id": "dc0235e5"
      },
      "outputs": [],
      "source": [
        "pop_final = pop.groupby(by=\"year\").sum().reset_index()"
      ]
    },
    {
      "cell_type": "code",
      "execution_count": null,
      "id": "508742a7",
      "metadata": {
        "id": "508742a7"
      },
      "outputs": [],
      "source": [
        "pop_final[\"pop_total\"] =  pop_final[[\"male\", \"female\"]].sum(axis=1)"
      ]
    },
    {
      "cell_type": "code",
      "execution_count": null,
      "id": "12724d20",
      "metadata": {
        "id": "12724d20",
        "outputId": "f6ab6cdb-bbef-482c-9648-da7d437ae462"
      },
      "outputs": [
        {
          "data": {
            "text/html": [
              "<div>\n",
              "<style scoped>\n",
              "    .dataframe tbody tr th:only-of-type {\n",
              "        vertical-align: middle;\n",
              "    }\n",
              "\n",
              "    .dataframe tbody tr th {\n",
              "        vertical-align: top;\n",
              "    }\n",
              "\n",
              "    .dataframe thead th {\n",
              "        text-align: right;\n",
              "    }\n",
              "</style>\n",
              "<table border=\"1\" class=\"dataframe\">\n",
              "  <thead>\n",
              "    <tr style=\"text-align: right;\">\n",
              "      <th></th>\n",
              "      <th>year</th>\n",
              "      <th>male</th>\n",
              "      <th>female</th>\n",
              "      <th>pop_total</th>\n",
              "    </tr>\n",
              "  </thead>\n",
              "  <tbody>\n",
              "    <tr>\n",
              "      <th>0</th>\n",
              "      <td>2015</td>\n",
              "      <td>25608502</td>\n",
              "      <td>25460873</td>\n",
              "      <td>51069375</td>\n",
              "    </tr>\n",
              "    <tr>\n",
              "      <th>1</th>\n",
              "      <td>2016</td>\n",
              "      <td>25696987</td>\n",
              "      <td>25572567</td>\n",
              "      <td>51269554</td>\n",
              "    </tr>\n",
              "    <tr>\n",
              "      <th>2</th>\n",
              "      <td>2017</td>\n",
              "      <td>25768055</td>\n",
              "      <td>25654452</td>\n",
              "      <td>51422507</td>\n",
              "    </tr>\n",
              "    <tr>\n",
              "      <th>3</th>\n",
              "      <td>2018</td>\n",
              "      <td>25877195</td>\n",
              "      <td>25752317</td>\n",
              "      <td>51629512</td>\n",
              "    </tr>\n",
              "    <tr>\n",
              "      <th>4</th>\n",
              "      <td>2019</td>\n",
              "      <td>25952070</td>\n",
              "      <td>25827133</td>\n",
              "      <td>51779203</td>\n",
              "    </tr>\n",
              "    <tr>\n",
              "      <th>5</th>\n",
              "      <td>2020</td>\n",
              "      <td>25915207</td>\n",
              "      <td>25913929</td>\n",
              "      <td>51829136</td>\n",
              "    </tr>\n",
              "  </tbody>\n",
              "</table>\n",
              "</div>"
            ],
            "text/plain": [
              "   year      male    female  pop_total\n",
              "0  2015  25608502  25460873   51069375\n",
              "1  2016  25696987  25572567   51269554\n",
              "2  2017  25768055  25654452   51422507\n",
              "3  2018  25877195  25752317   51629512\n",
              "4  2019  25952070  25827133   51779203\n",
              "5  2020  25915207  25913929   51829136"
            ]
          },
          "execution_count": 27,
          "metadata": {},
          "output_type": "execute_result"
        }
      ],
      "source": [
        "pop_final"
      ]
    },
    {
      "cell_type": "markdown",
      "id": "e2e0342c",
      "metadata": {
        "id": "e2e0342c"
      },
      "source": [
        "### 데이터 프레임의 결합"
      ]
    },
    {
      "cell_type": "markdown",
      "id": "612552ce",
      "metadata": {
        "id": "612552ce"
      },
      "source": [
        "이제 두 개의 데이터프레임 `house_final` 과 `pop_final` 에서 년도(`year`)와  각각 총가구수(`house_total`), 총인구수(`pop_total`) 을 슬라이싱하여 년도로 결합해 보자"
      ]
    },
    {
      "cell_type": "code",
      "execution_count": null,
      "id": "56352a43",
      "metadata": {
        "id": "56352a43"
      },
      "outputs": [],
      "source": [
        "all_final = pd.merge(house_final[['year', 'house_total']], pop_final[['year','pop_total']], on = 'year')"
      ]
    },
    {
      "cell_type": "code",
      "execution_count": null,
      "id": "070b929e",
      "metadata": {
        "id": "070b929e",
        "outputId": "39f400da-dacf-443a-ec06-ac643cd6a749"
      },
      "outputs": [
        {
          "data": {
            "text/html": [
              "<div>\n",
              "<style scoped>\n",
              "    .dataframe tbody tr th:only-of-type {\n",
              "        vertical-align: middle;\n",
              "    }\n",
              "\n",
              "    .dataframe tbody tr th {\n",
              "        vertical-align: top;\n",
              "    }\n",
              "\n",
              "    .dataframe thead th {\n",
              "        text-align: right;\n",
              "    }\n",
              "</style>\n",
              "<table border=\"1\" class=\"dataframe\">\n",
              "  <thead>\n",
              "    <tr style=\"text-align: right;\">\n",
              "      <th></th>\n",
              "      <th>year</th>\n",
              "      <th>house_total</th>\n",
              "      <th>pop_total</th>\n",
              "    </tr>\n",
              "  </thead>\n",
              "  <tbody>\n",
              "    <tr>\n",
              "      <th>0</th>\n",
              "      <td>2015</td>\n",
              "      <td>19111030</td>\n",
              "      <td>51069375</td>\n",
              "    </tr>\n",
              "    <tr>\n",
              "      <th>1</th>\n",
              "      <td>2016</td>\n",
              "      <td>19367696</td>\n",
              "      <td>51269554</td>\n",
              "    </tr>\n",
              "    <tr>\n",
              "      <th>2</th>\n",
              "      <td>2017</td>\n",
              "      <td>19673875</td>\n",
              "      <td>51422507</td>\n",
              "    </tr>\n",
              "    <tr>\n",
              "      <th>3</th>\n",
              "      <td>2018</td>\n",
              "      <td>19979188</td>\n",
              "      <td>51629512</td>\n",
              "    </tr>\n",
              "    <tr>\n",
              "      <th>4</th>\n",
              "      <td>2019</td>\n",
              "      <td>20343188</td>\n",
              "      <td>51779203</td>\n",
              "    </tr>\n",
              "    <tr>\n",
              "      <th>5</th>\n",
              "      <td>2020</td>\n",
              "      <td>20926710</td>\n",
              "      <td>51829136</td>\n",
              "    </tr>\n",
              "  </tbody>\n",
              "</table>\n",
              "</div>"
            ],
            "text/plain": [
              "   year  house_total  pop_total\n",
              "0  2015     19111030   51069375\n",
              "1  2016     19367696   51269554\n",
              "2  2017     19673875   51422507\n",
              "3  2018     19979188   51629512\n",
              "4  2019     20343188   51779203\n",
              "5  2020     20926710   51829136"
            ]
          },
          "execution_count": 29,
          "metadata": {},
          "output_type": "execute_result"
        }
      ],
      "source": [
        "all_final"
      ]
    },
    {
      "cell_type": "markdown",
      "id": "59136ac5",
      "metadata": {
        "id": "59136ac5"
      },
      "source": [
        "### 결과"
      ]
    },
    {
      "cell_type": "markdown",
      "id": "ef125da5",
      "metadata": {
        "id": "ef125da5"
      },
      "source": [
        "이제 마지막으로 가구당 평균 인원수를 구하여 열 `avg_person_per_house`에 저장하고 시가에 따른 변화를 그림으로 그려보자."
      ]
    },
    {
      "cell_type": "code",
      "execution_count": null,
      "id": "b453f7c2",
      "metadata": {
        "id": "b453f7c2"
      },
      "outputs": [],
      "source": [
        "all_final[\"avg_person_per_house\"] = all_final[\"pop_total\"] / all_final[\"house_total\"]"
      ]
    },
    {
      "cell_type": "code",
      "execution_count": null,
      "id": "39e7a2f7",
      "metadata": {
        "id": "39e7a2f7",
        "outputId": "b5b75f26-0c0f-462b-b591-a66e61d932b9"
      },
      "outputs": [
        {
          "data": {
            "text/html": [
              "<div>\n",
              "<style scoped>\n",
              "    .dataframe tbody tr th:only-of-type {\n",
              "        vertical-align: middle;\n",
              "    }\n",
              "\n",
              "    .dataframe tbody tr th {\n",
              "        vertical-align: top;\n",
              "    }\n",
              "\n",
              "    .dataframe thead th {\n",
              "        text-align: right;\n",
              "    }\n",
              "</style>\n",
              "<table border=\"1\" class=\"dataframe\">\n",
              "  <thead>\n",
              "    <tr style=\"text-align: right;\">\n",
              "      <th></th>\n",
              "      <th>year</th>\n",
              "      <th>house_total</th>\n",
              "      <th>pop_total</th>\n",
              "      <th>avg_person_per_house</th>\n",
              "    </tr>\n",
              "  </thead>\n",
              "  <tbody>\n",
              "    <tr>\n",
              "      <th>0</th>\n",
              "      <td>2015</td>\n",
              "      <td>19111030</td>\n",
              "      <td>51069375</td>\n",
              "      <td>2.672246</td>\n",
              "    </tr>\n",
              "    <tr>\n",
              "      <th>1</th>\n",
              "      <td>2016</td>\n",
              "      <td>19367696</td>\n",
              "      <td>51269554</td>\n",
              "      <td>2.647168</td>\n",
              "    </tr>\n",
              "    <tr>\n",
              "      <th>2</th>\n",
              "      <td>2017</td>\n",
              "      <td>19673875</td>\n",
              "      <td>51422507</td>\n",
              "      <td>2.613746</td>\n",
              "    </tr>\n",
              "    <tr>\n",
              "      <th>3</th>\n",
              "      <td>2018</td>\n",
              "      <td>19979188</td>\n",
              "      <td>51629512</td>\n",
              "      <td>2.584165</td>\n",
              "    </tr>\n",
              "    <tr>\n",
              "      <th>4</th>\n",
              "      <td>2019</td>\n",
              "      <td>20343188</td>\n",
              "      <td>51779203</td>\n",
              "      <td>2.545285</td>\n",
              "    </tr>\n",
              "    <tr>\n",
              "      <th>5</th>\n",
              "      <td>2020</td>\n",
              "      <td>20926710</td>\n",
              "      <td>51829136</td>\n",
              "      <td>2.476698</td>\n",
              "    </tr>\n",
              "  </tbody>\n",
              "</table>\n",
              "</div>"
            ],
            "text/plain": [
              "   year  house_total  pop_total  avg_person_per_house\n",
              "0  2015     19111030   51069375              2.672246\n",
              "1  2016     19367696   51269554              2.647168\n",
              "2  2017     19673875   51422507              2.613746\n",
              "3  2018     19979188   51629512              2.584165\n",
              "4  2019     20343188   51779203              2.545285\n",
              "5  2020     20926710   51829136              2.476698"
            ]
          },
          "execution_count": 31,
          "metadata": {},
          "output_type": "execute_result"
        }
      ],
      "source": [
        "all_final"
      ]
    },
    {
      "cell_type": "code",
      "execution_count": null,
      "id": "a51cc0ca",
      "metadata": {
        "id": "a51cc0ca",
        "outputId": "5f51d7d7-f9ad-4a66-aec0-14ab95f926bb"
      },
      "outputs": [
        {
          "data": {
            "text/plain": [
              "<AxesSubplot:xlabel='year'>"
            ]
          },
          "execution_count": 32,
          "metadata": {},
          "output_type": "execute_result"
        },
        {
          "data": {
            "image/png": "[encoded data removed]",
            "text/plain": [
              "<Figure size 432x288 with 1 Axes>"
            ]
          },
          "metadata": {
            "needs_background": "light"
          },
          "output_type": "display_data"
        }
      ],
      "source": [
        "all_final.plot.line(x='year', y='avg_person_per_house')"
      ]
    },
    {
      "cell_type": "markdown",
      "id": "cd27bab0",
      "metadata": {
        "id": "cd27bab0"
      },
      "source": [
        "우리가 계산한 결과는 [국가지표체계](https://www.index.go.kr/unify/idx-info.do?idxCd=4229)에서 다시 확인할 수 있다."
      ]
    }
  ],
  "metadata": {
    "kernelspec": {
      "display_name": "Python 3",
      "language": "python",
      "name": "python3"
    },
    "language_info": {
      "codemirror_mode": {
        "name": "ipython",
        "version": 3
      },
      "file_extension": ".py",
      "mimetype": "text/x-python",
      "name": "python",
      "nbconvert_exporter": "python",
      "pygments_lexer": "ipython3",
      "version": "3.8.10"
    },
    "colab": {
      "provenance": []
    }
  },
  "nbformat": 4,
  "nbformat_minor": 5
}